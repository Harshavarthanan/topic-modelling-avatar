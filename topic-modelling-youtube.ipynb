{
 "cells": [
  {
   "cell_type": "code",
   "execution_count": 12,
   "id": "7e7adaf9",
   "metadata": {},
   "outputs": [
    {
     "data": {
      "text/html": [
       "<div>\n",
       "<style scoped>\n",
       "    .dataframe tbody tr th:only-of-type {\n",
       "        vertical-align: middle;\n",
       "    }\n",
       "\n",
       "    .dataframe tbody tr th {\n",
       "        vertical-align: top;\n",
       "    }\n",
       "\n",
       "    .dataframe thead th {\n",
       "        text-align: right;\n",
       "    }\n",
       "</style>\n",
       "<table border=\"1\" class=\"dataframe\">\n",
       "  <thead>\n",
       "    <tr style=\"text-align: right;\">\n",
       "      <th></th>\n",
       "      <th>Name</th>\n",
       "      <th>Comment</th>\n",
       "      <th>Time</th>\n",
       "      <th>Likes</th>\n",
       "      <th>Reply Count</th>\n",
       "    </tr>\n",
       "  </thead>\n",
       "  <tbody>\n",
       "    <tr>\n",
       "      <th>0</th>\n",
       "      <td>MV</td>\n",
       "      <td>I liked the part where Morbius wiped half of t...</td>\n",
       "      <td>2022-12-06T22:00:47Z</td>\n",
       "      <td>0</td>\n",
       "      <td>0</td>\n",
       "    </tr>\n",
       "    <tr>\n",
       "      <th>1</th>\n",
       "      <td>lola</td>\n",
       "      <td>ive loved everything about avatar, the nature,...</td>\n",
       "      <td>2022-12-06T21:41:56Z</td>\n",
       "      <td>0</td>\n",
       "      <td>0</td>\n",
       "    </tr>\n",
       "    <tr>\n",
       "      <th>2</th>\n",
       "      <td>CHRONICLE KAI</td>\n",
       "      <td>Watching the long-awaited sequel in 8 days. It...</td>\n",
       "      <td>2022-12-06T21:27:03Z</td>\n",
       "      <td>0</td>\n",
       "      <td>0</td>\n",
       "    </tr>\n",
       "    <tr>\n",
       "      <th>3</th>\n",
       "      <td>OFW Schroedinger</td>\n",
       "      <td>the humans better win this time</td>\n",
       "      <td>2022-12-06T21:02:36Z</td>\n",
       "      <td>0</td>\n",
       "      <td>0</td>\n",
       "    </tr>\n",
       "    <tr>\n",
       "      <th>4</th>\n",
       "      <td>مصطفى هندى</td>\n",
       "      <td>I can't wait for this</td>\n",
       "      <td>2022-12-06T19:32:43Z</td>\n",
       "      <td>0</td>\n",
       "      <td>0</td>\n",
       "    </tr>\n",
       "  </tbody>\n",
       "</table>\n",
       "</div>"
      ],
      "text/plain": [
       "               Name                                            Comment  \\\n",
       "0                MV  I liked the part where Morbius wiped half of t...   \n",
       "1              lola  ive loved everything about avatar, the nature,...   \n",
       "2     CHRONICLE KAI  Watching the long-awaited sequel in 8 days. It...   \n",
       "3  OFW Schroedinger                    the humans better win this time   \n",
       "4        مصطفى هندى                              I can't wait for this   \n",
       "\n",
       "                   Time  Likes  Reply Count  \n",
       "0  2022-12-06T22:00:47Z      0            0  \n",
       "1  2022-12-06T21:41:56Z      0            0  \n",
       "2  2022-12-06T21:27:03Z      0            0  \n",
       "3  2022-12-06T21:02:36Z      0            0  \n",
       "4  2022-12-06T19:32:43Z      0            0  "
      ]
     },
     "metadata": {},
     "output_type": "display_data"
    },
    {
     "name": "stdout",
     "output_type": "stream",
     "text": [
      "(27999, 5)\n"
     ]
    }
   ],
   "source": [
    "import pandas as pd\n",
    "import numpy as np\n",
    "dataset = pd.read_csv(\"/Users/harshavarthanan/Downloads/Avatar2.csv\")\n",
    "display(dataset.head())\n",
    "print(dataset.shape)"
   ]
  },
  {
   "cell_type": "code",
   "execution_count": 17,
   "id": "348f32b0",
   "metadata": {},
   "outputs": [
    {
     "name": "stdout",
     "output_type": "stream",
     "text": [
      "This looks like a Titanic rip-off? The whole trailer is basically Rose and Jack's story? Why does the director want to copy James Cameron's work so bad?\n",
      " \n"
     ]
    }
   ],
   "source": [
    "print(dataset['Comment'][351])\n",
    "print(\" \")"
   ]
  },
  {
   "cell_type": "code",
   "execution_count": 18,
   "id": "d540bb27",
   "metadata": {},
   "outputs": [
    {
     "data": {
      "text/plain": [
       "'this looks like a titanic rip-off? the whole trailer is basically rose and jacks story? why does the director want to copy james camerons work so bad?'"
      ]
     },
     "execution_count": 18,
     "metadata": {},
     "output_type": "execute_result"
    }
   ],
   "source": [
    "def clean_text(text):\n",
    "    text = text.lower().replace(\"'\",\"\").replace('[^\\w\\s]', ' ').replace(\" \\d+\", \" \").strip()\n",
    "    return text\n",
    "#test your function works\n",
    "sample = dataset['Comment'][351]\n",
    "clean_text(sample)"
   ]
  },
  {
   "cell_type": "code",
   "execution_count": 36,
   "id": "ea362610",
   "metadata": {},
   "outputs": [
    {
     "data": {
      "text/html": [
       "<div>\n",
       "<style scoped>\n",
       "    .dataframe tbody tr th:only-of-type {\n",
       "        vertical-align: middle;\n",
       "    }\n",
       "\n",
       "    .dataframe tbody tr th {\n",
       "        vertical-align: top;\n",
       "    }\n",
       "\n",
       "    .dataframe thead th {\n",
       "        text-align: right;\n",
       "    }\n",
       "</style>\n",
       "<table border=\"1\" class=\"dataframe\">\n",
       "  <thead>\n",
       "    <tr style=\"text-align: right;\">\n",
       "      <th></th>\n",
       "      <th>Name</th>\n",
       "      <th>Comment</th>\n",
       "      <th>Time</th>\n",
       "      <th>Likes</th>\n",
       "      <th>Reply Count</th>\n",
       "      <th>Clean Comment</th>\n",
       "    </tr>\n",
       "  </thead>\n",
       "  <tbody>\n",
       "    <tr>\n",
       "      <th>0</th>\n",
       "      <td>MV</td>\n",
       "      <td>I liked the part where Morbius wiped half of t...</td>\n",
       "      <td>2022-12-06T22:00:47Z</td>\n",
       "      <td>0</td>\n",
       "      <td>0</td>\n",
       "      <td>i liked the part where morbius wiped half of t...</td>\n",
       "    </tr>\n",
       "    <tr>\n",
       "      <th>1</th>\n",
       "      <td>lola</td>\n",
       "      <td>ive loved everything about avatar, the nature,...</td>\n",
       "      <td>2022-12-06T21:41:56Z</td>\n",
       "      <td>0</td>\n",
       "      <td>0</td>\n",
       "      <td>ive loved everything about avatar, the nature,...</td>\n",
       "    </tr>\n",
       "    <tr>\n",
       "      <th>2</th>\n",
       "      <td>CHRONICLE KAI</td>\n",
       "      <td>Watching the long-awaited sequel in 8 days. It...</td>\n",
       "      <td>2022-12-06T21:27:03Z</td>\n",
       "      <td>0</td>\n",
       "      <td>0</td>\n",
       "      <td>watching the long-awaited sequel in 8 days. it...</td>\n",
       "    </tr>\n",
       "    <tr>\n",
       "      <th>3</th>\n",
       "      <td>OFW Schroedinger</td>\n",
       "      <td>the humans better win this time</td>\n",
       "      <td>2022-12-06T21:02:36Z</td>\n",
       "      <td>0</td>\n",
       "      <td>0</td>\n",
       "      <td>the humans better win this time</td>\n",
       "    </tr>\n",
       "    <tr>\n",
       "      <th>4</th>\n",
       "      <td>مصطفى هندى</td>\n",
       "      <td>I can't wait for this</td>\n",
       "      <td>2022-12-06T19:32:43Z</td>\n",
       "      <td>0</td>\n",
       "      <td>0</td>\n",
       "      <td>i cant wait for this</td>\n",
       "    </tr>\n",
       "  </tbody>\n",
       "</table>\n",
       "</div>"
      ],
      "text/plain": [
       "               Name                                            Comment  \\\n",
       "0                MV  I liked the part where Morbius wiped half of t...   \n",
       "1              lola  ive loved everything about avatar, the nature,...   \n",
       "2     CHRONICLE KAI  Watching the long-awaited sequel in 8 days. It...   \n",
       "3  OFW Schroedinger                    the humans better win this time   \n",
       "4        مصطفى هندى                              I can't wait for this   \n",
       "\n",
       "                   Time  Likes  Reply Count  \\\n",
       "0  2022-12-06T22:00:47Z      0            0   \n",
       "1  2022-12-06T21:41:56Z      0            0   \n",
       "2  2022-12-06T21:27:03Z      0            0   \n",
       "3  2022-12-06T21:02:36Z      0            0   \n",
       "4  2022-12-06T19:32:43Z      0            0   \n",
       "\n",
       "                                       Clean Comment  \n",
       "0  i liked the part where morbius wiped half of t...  \n",
       "1  ive loved everything about avatar, the nature,...  \n",
       "2  watching the long-awaited sequel in 8 days. it...  \n",
       "3                    the humans better win this time  \n",
       "4                               i cant wait for this  "
      ]
     },
     "execution_count": 36,
     "metadata": {},
     "output_type": "execute_result"
    }
   ],
   "source": [
    "dataset['Clean Comment'] = dataset['Comment'].apply(clean_text)\n",
    "dataset.head()"
   ]
  },
  {
   "cell_type": "code",
   "execution_count": 37,
   "id": "a2f724ab",
   "metadata": {},
   "outputs": [
    {
     "name": "stderr",
     "output_type": "stream",
     "text": [
      "[nltk_data] Downloading package stopwords to\n",
      "[nltk_data]     /Users/harshavarthanan/nltk_data...\n",
      "[nltk_data]   Package stopwords is already up-to-date!\n",
      "[nltk_data] Downloading package punkt to\n",
      "[nltk_data]     /Users/harshavarthanan/nltk_data...\n",
      "[nltk_data]   Package punkt is already up-to-date!\n"
     ]
    }
   ],
   "source": [
    "import nltk\n",
    "nltk.download('stopwords')\n",
    "nltk.download('punkt')\n",
    "from nltk.corpus import stopwords\n",
    "#stop_words_list = stopwords.words('english') + ['though', 'game', 'games']"
   ]
  },
  {
   "cell_type": "code",
   "execution_count": 38,
   "id": "608c8d0f",
   "metadata": {},
   "outputs": [
    {
     "name": "stdout",
     "output_type": "stream",
     "text": [
      "179\n",
      "352\n"
     ]
    }
   ],
   "source": [
    "# initiate stopwords from nltk\n",
    "\n",
    "stop_words = stopwords.words('english')\n",
    "print(len(stop_words))\n",
    "# add additional missing terms\n",
    "\n",
    "stop_words.extend(['a', 'b', 'c', 'd', 'e', 'f', 'g', 'h', 'i', 'j', 'k', 'l','m','n','o','p','q','r','s','t', 'u', 'v', 'w', 'x', 'y', 'z', \"about\", \"across\", \"after\", \"all\", \"also\", \"an\", \"and\", \"another\", \"added\",\n",
    "\"any\", \"are\", \"as\", \"at\", \"basically\", \"be\", \"because\", 'become', \"been\", \"before\", \"being\", \"between\",\"both\", \"but\", \"by\",\"came\",\"can\",\"come\",\"could\",\"did\",\"do\",\"does\",\"each\",\"else\",\"every\",\"either\",\"especially\", \"for\",\"from\",\"get\",\"given\",\"gets\",\n",
    "'give','gives',\"got\",\"goes\",\"had\",\"has\",\"have\",\"he\",\"her\",\"here\",\"him\",\"himself\",\"his\",\"how\",\"if\",\"in\",\"into\",\"is\",\"it\",\"its\",\"just\",\"lands\",\"like\",\"make\",\"making\", \"made\", \"many\",\"may\",\"me\",\"might\",\"more\",\"most\",\"much\",\"must\",\"my\",\"never\",\"provide\", \n",
    "\"provides\", \"perhaps\",\"no\",\"now\",\"of\",\"on\",\"only\",\"or\",\"other\", \"our\",\"out\",\"over\",\"re\",\"said\",\"same\",\"see\",\"should\",\"since\",\"so\",\"some\",\"still\",\"such\",\"seeing\", \"see\", \"take\",\"than\",\"that\",\"the\",\"their\",\"them\",\"then\",\"there\",\n",
    "\"these\",\"they\",\"this\",\"those\",\"through\",\"to\",\"too\",\"under\",\"up\",\"use\",\"using\",\"used\", \"underway\", \"very\",\"want\",\"was\",\"way\",\"we\",\"well\",\"were\",\"what\",\"when\",\"where\",\"which\",\"while\",\"whilst\",\"who\",\"will\",\"with\",\"would\",\"you\",\"your\", \n",
    "'etc', 'via', 'eg', 'game', 'games' 'like']) \n",
    "\n",
    "# remove stopwords\n",
    "print(len(stop_words))\n",
    "#df[1] = df[1].apply(lambda x: [item for item in x if item not in stop_words])\n",
    "\n",
    "#display(df.head(10))"
   ]
  },
  {
   "cell_type": "code",
   "execution_count": 40,
   "id": "312178ed",
   "metadata": {},
   "outputs": [
    {
     "name": "stdout",
     "output_type": "stream",
     "text": [
      "This looks like a Titanic rip-off? The whole trailer is basically Rose and Jack's story? Why does the director want to copy James Cameron's work so bad?\n",
      "------\n",
      "looks titanic rip-off ? whole trailer rose jacks story ? director copy james camerons work bad ?\n"
     ]
    }
   ],
   "source": [
    "def superclean(text):\n",
    "  #tokens = text.split(\" \")\n",
    "  text = text.lower().replace(\"'\",\"\").replace('[^\\w\\s]', ' ').replace(\" \\d+\", \" \").strip()\n",
    "  tokens = nltk.word_tokenize(text)\n",
    "  stop_tokens = [item for item in tokens if item not in stop_words]\n",
    "  new_text = ' '.join(stop_tokens)\n",
    "  return new_text\n",
    "print(dataset['Comment'][351])\n",
    "print(\"------\")\n",
    "print(superclean(dataset['Comment'][351]))"
   ]
  },
  {
   "cell_type": "code",
   "execution_count": 41,
   "id": "c12f1986",
   "metadata": {},
   "outputs": [
    {
     "name": "stdout",
     "output_type": "stream",
     "text": [
      "(8661, 7)\n",
      "(27999, 7)\n"
     ]
    },
    {
     "data": {
      "text/html": [
       "<div>\n",
       "<style scoped>\n",
       "    .dataframe tbody tr th:only-of-type {\n",
       "        vertical-align: middle;\n",
       "    }\n",
       "\n",
       "    .dataframe tbody tr th {\n",
       "        vertical-align: top;\n",
       "    }\n",
       "\n",
       "    .dataframe thead th {\n",
       "        text-align: right;\n",
       "    }\n",
       "</style>\n",
       "<table border=\"1\" class=\"dataframe\">\n",
       "  <thead>\n",
       "    <tr style=\"text-align: right;\">\n",
       "      <th></th>\n",
       "      <th>Name</th>\n",
       "      <th>Comment</th>\n",
       "      <th>Time</th>\n",
       "      <th>Likes</th>\n",
       "      <th>Reply Count</th>\n",
       "      <th>Clean Comment</th>\n",
       "      <th>char_count</th>\n",
       "    </tr>\n",
       "  </thead>\n",
       "  <tbody>\n",
       "    <tr>\n",
       "      <th>0</th>\n",
       "      <td>MV</td>\n",
       "      <td>I liked the part where Morbius wiped half of t...</td>\n",
       "      <td>2022-12-06T22:00:47Z</td>\n",
       "      <td>0</td>\n",
       "      <td>0</td>\n",
       "      <td>liked part morbius wiped half aliens species ,...</td>\n",
       "      <td>98</td>\n",
       "    </tr>\n",
       "    <tr>\n",
       "      <th>1</th>\n",
       "      <td>lola</td>\n",
       "      <td>ive loved everything about avatar, the nature,...</td>\n",
       "      <td>2022-12-06T21:41:56Z</td>\n",
       "      <td>0</td>\n",
       "      <td>0</td>\n",
       "      <td>ive loved everything avatar , nature , creatur...</td>\n",
       "      <td>116</td>\n",
       "    </tr>\n",
       "    <tr>\n",
       "      <th>2</th>\n",
       "      <td>CHRONICLE KAI</td>\n",
       "      <td>Watching the long-awaited sequel in 8 days. It...</td>\n",
       "      <td>2022-12-06T21:27:03Z</td>\n",
       "      <td>0</td>\n",
       "      <td>0</td>\n",
       "      <td>watching long-awaited sequel 8 days . ’ journe...</td>\n",
       "      <td>85</td>\n",
       "    </tr>\n",
       "    <tr>\n",
       "      <th>5</th>\n",
       "      <td>AT STUFF</td>\n",
       "      <td>cgi is worse than avatar 1 and it looks like a...</td>\n",
       "      <td>2022-12-06T19:25:12Z</td>\n",
       "      <td>1</td>\n",
       "      <td>1</td>\n",
       "      <td>cgi worse avatar 1 looks poorly 3d animated mo...</td>\n",
       "      <td>85</td>\n",
       "    </tr>\n",
       "    <tr>\n",
       "      <th>11</th>\n",
       "      <td>Saravana Win Vlog</td>\n",
       "      <td>Based on Law of diminishing marginal utility, ...</td>\n",
       "      <td>2022-12-06T17:26:35Z</td>\n",
       "      <td>1</td>\n",
       "      <td>0</td>\n",
       "      <td>based law diminishing marginal utility , seque...</td>\n",
       "      <td>97</td>\n",
       "    </tr>\n",
       "  </tbody>\n",
       "</table>\n",
       "</div>"
      ],
      "text/plain": [
       "                 Name                                            Comment  \\\n",
       "0                  MV  I liked the part where Morbius wiped half of t...   \n",
       "1                lola  ive loved everything about avatar, the nature,...   \n",
       "2       CHRONICLE KAI  Watching the long-awaited sequel in 8 days. It...   \n",
       "5            AT STUFF  cgi is worse than avatar 1 and it looks like a...   \n",
       "11  Saravana Win Vlog  Based on Law of diminishing marginal utility, ...   \n",
       "\n",
       "                    Time  Likes  Reply Count  \\\n",
       "0   2022-12-06T22:00:47Z      0            0   \n",
       "1   2022-12-06T21:41:56Z      0            0   \n",
       "2   2022-12-06T21:27:03Z      0            0   \n",
       "5   2022-12-06T19:25:12Z      1            1   \n",
       "11  2022-12-06T17:26:35Z      1            0   \n",
       "\n",
       "                                        Clean Comment  char_count  \n",
       "0   liked part morbius wiped half aliens species ,...          98  \n",
       "1   ive loved everything avatar , nature , creatur...         116  \n",
       "2   watching long-awaited sequel 8 days . ’ journe...          85  \n",
       "5   cgi worse avatar 1 looks poorly 3d animated mo...          85  \n",
       "11  based law diminishing marginal utility , seque...          97  "
      ]
     },
     "metadata": {},
     "output_type": "display_data"
    }
   ],
   "source": [
    "dataset['Clean Comment'] = dataset['Comment'].apply(superclean)\n",
    "dataset.head()\n",
    "dataset[\"char_count\"] = dataset['Clean Comment'].apply(len)\n",
    "df = dataset.drop(dataset[dataset['char_count'] < 50].index)\n",
    "#df = df.drop(df[df.score < 50].index)\n",
    "#df = df.drop(df[(df.score < 50) & (df.score > 20)].index)\n",
    "print(df.shape)\n",
    "print(dataset.shape)\n",
    "display(df.head())"
   ]
  },
  {
   "cell_type": "code",
   "execution_count": 42,
   "id": "17f0d444",
   "metadata": {},
   "outputs": [],
   "source": [
    "from sklearn.feature_extraction.text import CountVectorizer\n",
    "#Only include those words that appear in less than 80% of the document (max_df=0.8)\n",
    "#Only include those words that ppear in at least 2 documents\n",
    "count_vect = CountVectorizer(max_df=0.8, min_df=2, stop_words='english')\n",
    "#.values Only the values in the DataFrame will be returned, the axes labels will be removed.\n",
    "#The astype(‘U’) is telling numpy to convert the data to Unicode (essentially a string in python 3).\n",
    "doc_term_matrix = count_vect.fit_transform(dataset['Clean Comment'].values.astype('U'))"
   ]
  },
  {
   "cell_type": "code",
   "execution_count": 51,
   "id": "88572d64",
   "metadata": {},
   "outputs": [
    {
     "data": {
      "text/plain": [
       "LatentDirichletAllocation(random_state=42)"
      ]
     },
     "execution_count": 51,
     "metadata": {},
     "output_type": "execute_result"
    }
   ],
   "source": [
    "from sklearn.decomposition import LatentDirichletAllocation\n",
    "#n_components = num. of topics\n",
    "#random_state = Is just random\n",
    "LDA = LatentDirichletAllocation(n_components=10, random_state=42)\n",
    "LDA.fit(doc_term_matrix)"
   ]
  },
  {
   "cell_type": "code",
   "execution_count": 52,
   "id": "dfc1603d",
   "metadata": {},
   "outputs": [
    {
     "name": "stdout",
     "output_type": "stream",
     "text": [
      "Top 10 words for topic #0:\n",
      "['late', 'trailer', 'coming', 'music', 'nice', 'movie', 'goosebumps', 'finally', 'im', 'excited']\n",
      "\n",
      "\n",
      "Top 10 words for topic #1:\n",
      "['world', 'avatar', 'channel', 'invalid', 'zcsafez', 'href', 'quot', 'james', 'cameron', 'br']\n",
      "\n",
      "\n",
      "Top 10 words for topic #2:\n",
      "['god', 'subnautica', 'masterpiece', 'anna', 'sudheer', 'jai', 'beautiful', 'love', 'movie', 'wait']\n",
      "\n",
      "\n",
      "Top 10 words for topic #3:\n",
      "['watching', 'br', 'time', '13', 'waiting', 'watch', 'wait', 'avatar', 'years', 'movie']\n",
      "\n",
      "\n",
      "Top 10 words for topic #4:\n",
      "['что', 'lol', 'это', 'forever', 'не', 'long', 'meh', 'omg', 'waiting', 'wow']\n",
      "\n",
      "\n",
      "Top 10 words for topic #5:\n",
      "['film', 'story', 'hope', 'people', 'humans', 'water', 'quot', 'movie', 'time', 'avatar']\n",
      "\n",
      "\n",
      "Top 10 words for topic #6:\n",
      "['looks', 'care', 'views', 'watch', 'know', 'good', 'dont', 'movie', 'gon', 'na']\n",
      "\n",
      "\n",
      "Top 10 words for topic #7:\n",
      "['great', 'epic', 'story', 'feel', 'stunning', 'plot', 'going', 'shit', 'movie', 'looks']\n",
      "\n",
      "\n",
      "Top 10 words for topic #8:\n",
      "['jake', 'humans', 'href', 'https', 'www', 'd9myw72elq0', 'com', 'youtube', 'watch', 'amp']\n",
      "\n",
      "\n",
      "Top 10 words for topic #9:\n",
      "['4k', 'better', 'really', 'good', 'look', 'movie', 'amazing', 'trailer', 'cgi', 'looks']\n",
      "\n",
      "\n"
     ]
    }
   ],
   "source": [
    "for i,topic in enumerate(LDA.components_):\n",
    "    print(f'Top 10 words for topic #{i}:')\n",
    "    print([count_vect.get_feature_names_out()[i] for i in topic.argsort()[-10:]])\n",
    "    print('\\n')"
   ]
  },
  {
   "cell_type": "code",
   "execution_count": 55,
   "id": "96b58996",
   "metadata": {},
   "outputs": [
    {
     "data": {
      "text/plain": [
       "LatentDirichletAllocation(learning_method='online', max_iter=20, n_components=5,\n",
       "                          n_jobs=-1, random_state=100)"
      ]
     },
     "execution_count": 55,
     "metadata": {},
     "output_type": "execute_result"
    }
   ],
   "source": [
    "LDA_Advanced = LatentDirichletAllocation(n_components=5,\n",
    "max_iter=10, \n",
    "learning_method='online',\n",
    "random_state=100,\n",
    "batch_size=128,\n",
    "evaluate_every = -1,\n",
    "n_jobs = -1 )\n",
    "LDA_Advanced.fit(doc_term_matrix)"
   ]
  },
  {
   "cell_type": "code",
   "execution_count": 57,
   "id": "4442ccab",
   "metadata": {},
   "outputs": [
    {
     "name": "stdout",
     "output_type": "stream",
     "text": [
      "Top 10 words for topic #0:\n",
      "['love', 'dont', 'gon', 'cgi', 'avatar', 'na', 'good', 'quot', 'movie', 'looks']\n",
      "\n",
      "\n",
      "Top 10 words for topic #1:\n",
      "['best', 'href', 'beautiful', 'world', 'going', 'movie', 'watch', 'trailer', 'avatar', 'br']\n",
      "\n",
      "\n",
      "Top 10 words for topic #2:\n",
      "['omg', 'avatar', 'real', 'nice', 'bad', 'shit', 'video', 'masterpiece', 'great', 'wow']\n",
      "\n",
      "\n",
      "Top 10 words for topic #3:\n",
      "['не', 'money', 'papyrus', 'lol', 'subnautica', 'year', 'visuals', 'story', 'james', 'cameron']\n",
      "\n",
      "\n",
      "Top 10 words for topic #4:\n",
      "['long', 'amazing', 'finally', 'im', 'avatar', 'time', 'waiting', 'years', 'wait', 'movie']\n",
      "\n",
      "\n"
     ]
    }
   ],
   "source": [
    "for i,topic in enumerate(LDA_Advanced.components_):\n",
    "    print(f'Top 10 words for topic #{i}:')\n",
    "    print([count_vect.get_feature_names_out()[i] for i in topic.argsort()[-10:]])\n",
    "    print('\\n')"
   ]
  },
  {
   "cell_type": "code",
   "execution_count": 53,
   "id": "c33f9297",
   "metadata": {},
   "outputs": [
    {
     "data": {
      "text/html": [
       "<div>\n",
       "<style scoped>\n",
       "    .dataframe tbody tr th:only-of-type {\n",
       "        vertical-align: middle;\n",
       "    }\n",
       "\n",
       "    .dataframe tbody tr th {\n",
       "        vertical-align: top;\n",
       "    }\n",
       "\n",
       "    .dataframe thead th {\n",
       "        text-align: right;\n",
       "    }\n",
       "</style>\n",
       "<table border=\"1\" class=\"dataframe\">\n",
       "  <thead>\n",
       "    <tr style=\"text-align: right;\">\n",
       "      <th></th>\n",
       "      <th>Name</th>\n",
       "      <th>Comment</th>\n",
       "      <th>Time</th>\n",
       "      <th>Likes</th>\n",
       "      <th>Reply Count</th>\n",
       "      <th>Clean Comment</th>\n",
       "      <th>char_count</th>\n",
       "      <th>Topic</th>\n",
       "    </tr>\n",
       "  </thead>\n",
       "  <tbody>\n",
       "    <tr>\n",
       "      <th>16000</th>\n",
       "      <td>Mr. Potato</td>\n",
       "      <td>I wanna see the humans win. They came in peace...</td>\n",
       "      <td>2022-11-02T18:28:21Z</td>\n",
       "      <td>0</td>\n",
       "      <td>0</td>\n",
       "      <td>wan na humans win . peace tried treaty , gave ...</td>\n",
       "      <td>152</td>\n",
       "      <td>4</td>\n",
       "    </tr>\n",
       "    <tr>\n",
       "      <th>16001</th>\n",
       "      <td>Aj Dawson</td>\n",
       "      <td>This looks amazing</td>\n",
       "      <td>2022-11-02T18:28:21Z</td>\n",
       "      <td>0</td>\n",
       "      <td>0</td>\n",
       "      <td>looks amazing</td>\n",
       "      <td>13</td>\n",
       "      <td>0</td>\n",
       "    </tr>\n",
       "    <tr>\n",
       "      <th>16002</th>\n",
       "      <td>Aung Phyo Thu</td>\n",
       "      <td>Avatar The Blue Indians &amp;amp; Their Dino Birds...</td>\n",
       "      <td>2022-11-02T18:28:16Z</td>\n",
       "      <td>0</td>\n",
       "      <td>0</td>\n",
       "      <td>avatar blue indians &amp; amp ; dino birds &lt; br &gt; ...</td>\n",
       "      <td>58</td>\n",
       "      <td>2</td>\n",
       "    </tr>\n",
       "    <tr>\n",
       "      <th>16003</th>\n",
       "      <td>Kendra</td>\n",
       "      <td>I’m so crazy excited!! I’ve been waiting for t...</td>\n",
       "      <td>2022-11-02T18:28:10Z</td>\n",
       "      <td>0</td>\n",
       "      <td>0</td>\n",
       "      <td>’ crazy excited ! ! ’ waiting movie 9 years old !</td>\n",
       "      <td>49</td>\n",
       "      <td>4</td>\n",
       "    </tr>\n",
       "    <tr>\n",
       "      <th>16004</th>\n",
       "      <td>Butterscotchtrap</td>\n",
       "      <td>This film had to be difficult to pull since wa...</td>\n",
       "      <td>2022-11-02T18:28:10Z</td>\n",
       "      <td>0</td>\n",
       "      <td>0</td>\n",
       "      <td>film difficult pull water hard render engine ....</td>\n",
       "      <td>94</td>\n",
       "      <td>0</td>\n",
       "    </tr>\n",
       "    <tr>\n",
       "      <th>16005</th>\n",
       "      <td>W M D</td>\n",
       "      <td>&amp;quot;Papyrus!&amp;quot;</td>\n",
       "      <td>2022-11-02T18:28:09Z</td>\n",
       "      <td>0</td>\n",
       "      <td>0</td>\n",
       "      <td>&amp; quot ; papyrus ! &amp; quot ;</td>\n",
       "      <td>27</td>\n",
       "      <td>0</td>\n",
       "    </tr>\n",
       "    <tr>\n",
       "      <th>16006</th>\n",
       "      <td>Abridgedbog775</td>\n",
       "      <td>It's time to purge some xenos</td>\n",
       "      <td>2022-11-02T18:28:04Z</td>\n",
       "      <td>0</td>\n",
       "      <td>0</td>\n",
       "      <td>time purge xenos</td>\n",
       "      <td>16</td>\n",
       "      <td>4</td>\n",
       "    </tr>\n",
       "    <tr>\n",
       "      <th>16007</th>\n",
       "      <td>xwaltranx</td>\n",
       "      <td>what looks more human? zuckerbergs meta avatar...</td>\n",
       "      <td>2022-11-02T18:27:57Z</td>\n",
       "      <td>0</td>\n",
       "      <td>0</td>\n",
       "      <td>looks human ? zuckerbergs meta avatars blue th...</td>\n",
       "      <td>169</td>\n",
       "      <td>0</td>\n",
       "    </tr>\n",
       "    <tr>\n",
       "      <th>16008</th>\n",
       "      <td>Benjamin Aswad</td>\n",
       "      <td>It's gonna flop. Nothing is ever as good as th...</td>\n",
       "      <td>2022-11-02T18:27:55Z</td>\n",
       "      <td>0</td>\n",
       "      <td>0</td>\n",
       "      <td>gon na flop . nothing ever good original even ...</td>\n",
       "      <td>69</td>\n",
       "      <td>0</td>\n",
       "    </tr>\n",
       "    <tr>\n",
       "      <th>16009</th>\n",
       "      <td>Ryan Mulford</td>\n",
       "      <td>Okay...fine.</td>\n",
       "      <td>2022-11-02T18:27:54Z</td>\n",
       "      <td>0</td>\n",
       "      <td>0</td>\n",
       "      <td>okay ... fine .</td>\n",
       "      <td>15</td>\n",
       "      <td>1</td>\n",
       "    </tr>\n",
       "  </tbody>\n",
       "</table>\n",
       "</div>"
      ],
      "text/plain": [
       "                   Name                                            Comment  \\\n",
       "16000        Mr. Potato  I wanna see the humans win. They came in peace...   \n",
       "16001         Aj Dawson                                 This looks amazing   \n",
       "16002     Aung Phyo Thu  Avatar The Blue Indians &amp; Their Dino Birds...   \n",
       "16003            Kendra  I’m so crazy excited!! I’ve been waiting for t...   \n",
       "16004  Butterscotchtrap  This film had to be difficult to pull since wa...   \n",
       "16005             W M D                               &quot;Papyrus!&quot;   \n",
       "16006    Abridgedbog775                      It's time to purge some xenos   \n",
       "16007         xwaltranx  what looks more human? zuckerbergs meta avatar...   \n",
       "16008    Benjamin Aswad  It's gonna flop. Nothing is ever as good as th...   \n",
       "16009      Ryan Mulford                                       Okay...fine.   \n",
       "\n",
       "                       Time  Likes  Reply Count  \\\n",
       "16000  2022-11-02T18:28:21Z      0            0   \n",
       "16001  2022-11-02T18:28:21Z      0            0   \n",
       "16002  2022-11-02T18:28:16Z      0            0   \n",
       "16003  2022-11-02T18:28:10Z      0            0   \n",
       "16004  2022-11-02T18:28:10Z      0            0   \n",
       "16005  2022-11-02T18:28:09Z      0            0   \n",
       "16006  2022-11-02T18:28:04Z      0            0   \n",
       "16007  2022-11-02T18:27:57Z      0            0   \n",
       "16008  2022-11-02T18:27:55Z      0            0   \n",
       "16009  2022-11-02T18:27:54Z      0            0   \n",
       "\n",
       "                                           Clean Comment  char_count  Topic  \n",
       "16000  wan na humans win . peace tried treaty , gave ...         152      4  \n",
       "16001                                      looks amazing          13      0  \n",
       "16002  avatar blue indians & amp ; dino birds < br > ...          58      2  \n",
       "16003  ’ crazy excited ! ! ’ waiting movie 9 years old !          49      4  \n",
       "16004  film difficult pull water hard render engine ....          94      0  \n",
       "16005                        & quot ; papyrus ! & quot ;          27      0  \n",
       "16006                                   time purge xenos          16      4  \n",
       "16007  looks human ? zuckerbergs meta avatars blue th...         169      0  \n",
       "16008  gon na flop . nothing ever good original even ...          69      0  \n",
       "16009                                    okay ... fine .          15      1  "
      ]
     },
     "execution_count": 53,
     "metadata": {},
     "output_type": "execute_result"
    }
   ],
   "source": [
    "topic_values = LDA_Advanced.transform(doc_term_matrix)\n",
    "topic_values.shape\n",
    "dataset['Topic'] = topic_values.argmax(axis=1)\n",
    "dataset[16000:16010]"
   ]
  },
  {
   "cell_type": "code",
   "execution_count": 54,
   "id": "5faebe9d",
   "metadata": {},
   "outputs": [
    {
     "name": "stdout",
     "output_type": "stream",
     "text": [
      "DataFrame is written to Excel File successfully.\n"
     ]
    }
   ],
   "source": [
    "file_name = 'TopicData.xlsx'\n",
    "  \n",
    "# saving the excel\n",
    "dataset.to_excel(file_name)\n",
    "print('DataFrame is written to Excel File successfully.')"
   ]
  },
  {
   "cell_type": "code",
   "execution_count": null,
   "id": "fb883e19",
   "metadata": {},
   "outputs": [],
   "source": []
  }
 ],
 "metadata": {
  "kernelspec": {
   "display_name": "Python 3 (ipykernel)",
   "language": "python",
   "name": "python3"
  },
  "language_info": {
   "codemirror_mode": {
    "name": "ipython",
    "version": 3
   },
   "file_extension": ".py",
   "mimetype": "text/x-python",
   "name": "python",
   "nbconvert_exporter": "python",
   "pygments_lexer": "ipython3",
   "version": "3.9.12"
  }
 },
 "nbformat": 4,
 "nbformat_minor": 5
}
